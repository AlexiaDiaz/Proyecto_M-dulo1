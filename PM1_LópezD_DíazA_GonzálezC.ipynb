{
 "cells": [
  {
   "cell_type": "markdown",
   "metadata": {},
   "source": [
    "![](LogoIteso.jpg)"
   ]
  },
  {
   "cell_type": "markdown",
   "metadata": {},
   "source": [
    "# Integrantes\n",
    "+ Díaz Verduzco Alexia Marisol IF720500\n",
    "+ Gónzalez Reyes Christian Eduardo IF721850\n",
    "+ López Lazareno Diego Alberto IF722100"
   ]
  },
  {
   "cell_type": "markdown",
   "metadata": {},
   "source": [
    "# 1.1 [Arbitraje en el Mercado de Divisas (FX)](http://www.meiss.com/columbia/en/teaching/1999/fall/B6015/download/lecture05/lec5.pdf)"
   ]
  },
  {
   "cell_type": "markdown",
   "metadata": {},
   "source": [
    "![](Trading.jpg)"
   ]
  },
  {
   "cell_type": "markdown",
   "metadata": {},
   "source": [
    "## 1.2 Objetivos"
   ]
  },
  {
   "cell_type": "markdown",
   "metadata": {},
   "source": [
    "### 1.2.1 Objetivo general\n",
    "\n",
    "+ ***Optimizar la ruta de compra y venta de activos en el Mercado de Divisas (FX)*** para realizar arbitraje."
   ]
  },
  {
   "cell_type": "markdown",
   "metadata": {},
   "source": [
    "### 1.2.2 Objetivos específicos\n",
    "\n",
    "+ ***Encontrar***, para pares de divisas seleccionadas arbitrariamente, ***la ruta óptima en que estos activos deben ser negociadas.*** \n",
    "\n",
    "+ Modelar la negociación con el ***USD DÓLAR, LA LIBRA, EL FRACO FRANCÉS, EL MARCO ALEMÁN Y EL YEN JAPONÉS.***  \n",
    "\n",
    "+ Con la ruta óptima, si es que existe, ***obtener una utilidad instantánea libre de riesgo al aprovecharnos de la diferencia de precios*** de tales divisas en diferentes mercados. El truco está en terminar la operación con más dólares (in) de los que cambiamos por las otras divisas en un principio (out).\n",
    "\n",
    "+ ***Solucionar el problema descrito por medio de la librería Scipy, con su módulo de programación lineal***, ya que el problema estará sujeto a ciertas restricciones y puede modelarse a traves de desigualdades en forma matricial y vectorial."
   ]
  }
 ],
 "metadata": {
  "kernelspec": {
   "display_name": "Python 3",
   "language": "python",
   "name": "python3"
  },
  "language_info": {
   "codemirror_mode": {
    "name": "ipython",
    "version": 3
   },
   "file_extension": ".py",
   "mimetype": "text/x-python",
   "name": "python",
   "nbconvert_exporter": "python",
   "pygments_lexer": "ipython3",
   "version": "3.7.3"
  }
 },
 "nbformat": 4,
 "nbformat_minor": 2
}
